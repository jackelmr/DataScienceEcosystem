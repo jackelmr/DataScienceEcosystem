{
 "cells": [
  {
   "cell_type": "markdown",
   "id": "c064f337-6ae4-4942-ae9c-4b12f3750a2b",
   "metadata": {},
   "source": [
    " # Data Science Tools and Ecosystem"
   ]
  },
  {
   "cell_type": "markdown",
   "id": "1317c598-b234-4e76-a387-21360008f810",
   "metadata": {},
   "source": [
    "In this notebook, Data Science Tools and Ecosystem are summarize"
   ]
  },
  {
   "cell_type": "markdown",
   "id": "b544522c-bd67-43a3-9299-09a026b307a2",
   "metadata": {},
   "source": [
    "**Objectives:**"
   ]
  },
  {
   "cell_type": "markdown",
   "id": "381df821-d994-4118-8f38-3bf44486d15d",
   "metadata": {},
   "source": [
    "* Python\n",
    "* R\n",
    "* Julia\n",
    "* Scala"
   ]
  },
  {
   "cell_type": "markdown",
   "id": "7f3ce2be-6f93-43d2-b139-dfedc7240d81",
   "metadata": {},
   "source": [
    "Some of the popular languages that Data Scientists use are:\n",
    "1. English\n",
    "2. Spanish\n",
    "3. Chinese"
   ]
  },
  {
   "cell_type": "markdown",
   "id": "a54d871d-2bb3-4109-a8b6-7b3269223b54",
   "metadata": {},
   "source": [
    "Some of the commonly used libraries used by Data Scientists include:\n",
    "1. SciPy\n",
    "2. NumPy\n",
    "3. Pandas"
   ]
  },
  {
   "cell_type": "markdown",
   "id": "c3f42fd7-b61e-4341-891b-5a4ed5dd4da3",
   "metadata": {},
   "source": [
    "|Data Science Tools|\n",
    "|-----------------|\n",
    "|Python|\n",
    "|Jupyter Notebook|\n",
    "|R|"
   ]
  },
  {
   "cell_type": "markdown",
   "id": "a822bd81-3fc5-472c-89fa-d10bfd6fc354",
   "metadata": {},
   "source": [
    "### Below are a few examples of evaluating arithmetic expressions in Python ###\n"
   ]
  },
  {
   "cell_type": "markdown",
   "id": "9d3a9579-dab3-4dbe-bc18-ec6f44c11e0c",
   "metadata": {},
   "source": [
    "This a simple arithmetic expression to mutiply then add integers"
   ]
  },
  {
   "cell_type": "code",
   "execution_count": 11,
   "id": "58490285-9c70-4e38-8394-17f8d1269238",
   "metadata": {},
   "outputs": [
    {
     "data": {
      "text/plain": [
       "17"
      ]
     },
     "execution_count": 11,
     "metadata": {},
     "output_type": "execute_result"
    }
   ],
   "source": [
    "(3*4)+5"
   ]
  },
  {
   "cell_type": "markdown",
   "id": "852f524a-120e-42f3-8281-c39873bfff99",
   "metadata": {},
   "source": [
    "This will convert 200 minutes to hours by diving by 60"
   ]
  },
  {
   "cell_type": "code",
   "execution_count": 12,
   "id": "9e9d134f-5287-490c-bbe6-3917180b49c9",
   "metadata": {},
   "outputs": [
    {
     "data": {
      "text/plain": [
       "3.3333333333333335"
      ]
     },
     "execution_count": 12,
     "metadata": {},
     "output_type": "execute_result"
    }
   ],
   "source": [
    "200/60"
   ]
  },
  {
   "cell_type": "markdown",
   "id": "2281b365-e45b-4f08-9c64-e2bc8f7870b5",
   "metadata": {},
   "source": [
    "## Author ## "
   ]
  },
  {
   "cell_type": "markdown",
   "id": "893d175f-ab8e-47c2-8335-26b3965c17bc",
   "metadata": {},
   "source": [
    "Eric Jackson"
   ]
  }
 ],
 "metadata": {
  "kernelspec": {
   "display_name": "Python [conda env:base] *",
   "language": "python",
   "name": "conda-base-py"
  },
  "language_info": {
   "codemirror_mode": {
    "name": "ipython",
    "version": 3
   },
   "file_extension": ".py",
   "mimetype": "text/x-python",
   "name": "python",
   "nbconvert_exporter": "python",
   "pygments_lexer": "ipython3",
   "version": "3.12.7"
  }
 },
 "nbformat": 4,
 "nbformat_minor": 5
}
